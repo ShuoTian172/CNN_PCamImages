{
 "cells": [
  {
   "cell_type": "code",
   "execution_count": 1,
   "metadata": {
    "_cell_guid": "b1076dfc-b9ad-4769-8c92-a6c4dae69d19",
    "_uuid": "8f2839f25d086af736a60e9eeb907d3b93b6e0e5"
   },
   "outputs": [
    {
     "name": "stdout",
     "output_type": "stream",
     "text": [
      "['train', 'test', 'train_labels.csv', 'sample_submission.csv']\n"
     ]
    }
   ],
   "source": [
    "# This Python 3 environment comes with many helpful analytics libraries installed\n",
    "# It is defined by the kaggle/python docker image: https://github.com/kaggle/docker-python\n",
    "# For example, here's several helpful packages to load in \n",
    "\n",
    "import numpy as np # linear algebra\n",
    "import pandas as pd # data processing, CSV file I/O (e.g. pd.read_csv)\n",
    "\n",
    "# Input data files are available in the \"../input/\" directory.\n",
    "# For example, running this (by clicking run or pressing Shift+Enter) will list the files in the input directory\n",
    "\n",
    "import os\n",
    "print(os.listdir(\"../input\"))\n",
    "\n",
    "# Any results you write to the current directory are saved as output."
   ]
  },
  {
   "cell_type": "code",
   "execution_count": 2,
   "metadata": {
    "_cell_guid": "79c7e3d0-c299-4dcb-8224-4455121ee9b0",
    "_uuid": "d629ff2d2480ee46fbb7e2d37f6b5fab8052498a"
   },
   "outputs": [
    {
     "name": "stderr",
     "output_type": "stream",
     "text": [
      "Using TensorFlow backend.\n"
     ]
    }
   ],
   "source": [
    "from glob import glob \n",
    "from skimage.io import imread #read images from files\n",
    "import os\n",
    "import tensorflow as tf\n",
    "import matplotlib.pyplot as plt\n",
    "from sklearn.model_selection import train_test_split\n",
    "from keras.utils.np_utils import to_categorical   "
   ]
  },
  {
   "cell_type": "code",
   "execution_count": 3,
   "metadata": {
    "_uuid": "331c31bf5ffcd2b66586078c7df060a0061eb514"
   },
   "outputs": [],
   "source": [
    "train_y = pd.read_csv('../input/train_labels.csv')"
   ]
  },
  {
   "cell_type": "code",
   "execution_count": 4,
   "metadata": {
    "_uuid": "bfc430e987187389a7cc815ce1127c0da82999c9"
   },
   "outputs": [
    {
     "data": {
      "text/html": [
       "<div>\n",
       "<style scoped>\n",
       "    .dataframe tbody tr th:only-of-type {\n",
       "        vertical-align: middle;\n",
       "    }\n",
       "\n",
       "    .dataframe tbody tr th {\n",
       "        vertical-align: top;\n",
       "    }\n",
       "\n",
       "    .dataframe thead th {\n",
       "        text-align: right;\n",
       "    }\n",
       "</style>\n",
       "<table border=\"1\" class=\"dataframe\">\n",
       "  <thead>\n",
       "    <tr style=\"text-align: right;\">\n",
       "      <th></th>\n",
       "      <th>path</th>\n",
       "      <th>id</th>\n",
       "      <th>label</th>\n",
       "    </tr>\n",
       "  </thead>\n",
       "  <tbody>\n",
       "    <tr>\n",
       "      <th>0</th>\n",
       "      <td>../input/train/292faf631c5ff5741bb46b04e4eacce...</td>\n",
       "      <td>292faf631c5ff5741bb46b04e4eacceb272d8c8b</td>\n",
       "      <td>0</td>\n",
       "    </tr>\n",
       "    <tr>\n",
       "      <th>1</th>\n",
       "      <td>../input/train/5a61b93a34e2a37869a4e83e964169a...</td>\n",
       "      <td>5a61b93a34e2a37869a4e83e964169ad3d1e3753</td>\n",
       "      <td>0</td>\n",
       "    </tr>\n",
       "    <tr>\n",
       "      <th>2</th>\n",
       "      <td>../input/train/139e7bd057aafacf7cce59490104ccf...</td>\n",
       "      <td>139e7bd057aafacf7cce59490104ccf281a3fa98</td>\n",
       "      <td>0</td>\n",
       "    </tr>\n",
       "    <tr>\n",
       "      <th>3</th>\n",
       "      <td>../input/train/5adf6b5ce28b15f585b8d53fc8d3716...</td>\n",
       "      <td>5adf6b5ce28b15f585b8d53fc8d3716182026ab4</td>\n",
       "      <td>0</td>\n",
       "    </tr>\n",
       "    <tr>\n",
       "      <th>4</th>\n",
       "      <td>../input/train/abf7a7eb3e7bc917e766670eebd7f44...</td>\n",
       "      <td>abf7a7eb3e7bc917e766670eebd7f440c500ee4d</td>\n",
       "      <td>0</td>\n",
       "    </tr>\n",
       "  </tbody>\n",
       "</table>\n",
       "</div>"
      ],
      "text/plain": [
       "                                                path  ...  label\n",
       "0  ../input/train/292faf631c5ff5741bb46b04e4eacce...  ...      0\n",
       "1  ../input/train/5a61b93a34e2a37869a4e83e964169a...  ...      0\n",
       "2  ../input/train/139e7bd057aafacf7cce59490104ccf...  ...      0\n",
       "3  ../input/train/5adf6b5ce28b15f585b8d53fc8d3716...  ...      0\n",
       "4  ../input/train/abf7a7eb3e7bc917e766670eebd7f44...  ...      0\n",
       "\n",
       "[5 rows x 3 columns]"
      ]
     },
     "execution_count": 4,
     "metadata": {},
     "output_type": "execute_result"
    }
   ],
   "source": [
    "base_tile_dir = '../input/train/'\n",
    "df = pd.DataFrame({'path': glob(os.path.join(base_tile_dir,'*.tif'))})\n",
    "df['id'] = df.path.map(lambda x: x.split('/')[3].split(\".\")[0])\n",
    "labels = pd.read_csv(\"../input/train_labels.csv\")\n",
    "df = df.merge(labels, on = \"id\")\n",
    "df.head(5)"
   ]
  },
  {
   "cell_type": "code",
   "execution_count": 5,
   "metadata": {
    "_uuid": "4a86bca5ec26b6f78b8cca77d0531af83cddacee"
   },
   "outputs": [
    {
     "data": {
      "text/plain": [
       "(220025, 3)"
      ]
     },
     "execution_count": 5,
     "metadata": {},
     "output_type": "execute_result"
    }
   ],
   "source": [
    "#df['image'] = df['path'].map(imread)\n",
    "df.shape"
   ]
  },
  {
   "cell_type": "code",
   "execution_count": 6,
   "metadata": {
    "_uuid": "f96dbdb3b34d2b02c9bb1a5b08dcd9b92e8c4850"
   },
   "outputs": [],
   "source": [
    "#imgplot = plt.imshow(df['image'][0])"
   ]
  },
  {
   "cell_type": "code",
   "execution_count": 7,
   "metadata": {
    "_uuid": "e75ee579912c8156f1d2c9e5eadda9bc41d82575"
   },
   "outputs": [],
   "source": [
    "#df_train, df_test = train_test_split(df, test_size=0.3)\n",
    "df_train=df"
   ]
  },
  {
   "cell_type": "code",
   "execution_count": 8,
   "metadata": {
    "_uuid": "2459499de1fd84521a2719b4024d319349120e5f"
   },
   "outputs": [],
   "source": [
    "#df_train.shape, df_test.shape"
   ]
  },
  {
   "cell_type": "code",
   "execution_count": 9,
   "metadata": {
    "_uuid": "bf2a06ab2ae5bd5d6df2d02c0ac2a70b3d8ee435"
   },
   "outputs": [
    {
     "data": {
      "text/plain": [
       "0    130908\n",
       "1     89117\n",
       "Name: label, dtype: int64"
      ]
     },
     "execution_count": 9,
     "metadata": {},
     "output_type": "execute_result"
    }
   ],
   "source": [
    "df_train['label'].value_counts()"
   ]
  },
  {
   "cell_type": "code",
   "execution_count": 10,
   "metadata": {
    "_uuid": "857910107a3df970d8fcefcb162eec77b0cb38c5"
   },
   "outputs": [],
   "source": [
    "#df_test['label'].value_counts()"
   ]
  },
  {
   "cell_type": "code",
   "execution_count": 11,
   "metadata": {
    "_uuid": "4094d8e1ad14ed2821cb0f08ef9260246dec336b"
   },
   "outputs": [
    {
     "data": {
      "text/plain": [
       "0    0\n",
       "1    0\n",
       "2    0\n",
       "3    0\n",
       "4    0\n",
       "Name: label, dtype: int64"
      ]
     },
     "execution_count": 11,
     "metadata": {},
     "output_type": "execute_result"
    }
   ],
   "source": [
    "train_y=df_train['label']\n",
    "train_y.head(5)"
   ]
  },
  {
   "cell_type": "code",
   "execution_count": 12,
   "metadata": {
    "_uuid": "ed1eb43d96f73f803e835bfc35af291f4eeb53ad"
   },
   "outputs": [
    {
     "data": {
      "text/plain": [
       "0    ../input/train/292faf631c5ff5741bb46b04e4eacce...\n",
       "1    ../input/train/5a61b93a34e2a37869a4e83e964169a...\n",
       "2    ../input/train/139e7bd057aafacf7cce59490104ccf...\n",
       "3    ../input/train/5adf6b5ce28b15f585b8d53fc8d3716...\n",
       "4    ../input/train/abf7a7eb3e7bc917e766670eebd7f44...\n",
       "Name: path, dtype: object"
      ]
     },
     "execution_count": 12,
     "metadata": {},
     "output_type": "execute_result"
    }
   ],
   "source": [
    "train_x=df_train['path']\n",
    "train_x.head(5)"
   ]
  },
  {
   "cell_type": "code",
   "execution_count": 13,
   "metadata": {
    "_uuid": "def27d9097190a843450e9233ef1bfa7479c75e9"
   },
   "outputs": [],
   "source": [
    "base_tile_dir = '../input/test/'\n",
    "df = pd.DataFrame({'path': glob(os.path.join(base_tile_dir,'*.tif'))})\n",
    "df['id'] = df.path.map(lambda x: x.split('/')[3].split(\".\")[0])\n",
    "df_test=df"
   ]
  },
  {
   "cell_type": "code",
   "execution_count": 14,
   "metadata": {
    "_uuid": "ff91d126830dc115ebdb5785c5d6b35050d52124"
   },
   "outputs": [],
   "source": [
    "#test_y=df_test['label']\n",
    "#test_y.head(5)"
   ]
  },
  {
   "cell_type": "code",
   "execution_count": 15,
   "metadata": {
    "_uuid": "89a5fa9f6d83f4e4430c1541dc548e68b1cd2083"
   },
   "outputs": [
    {
     "data": {
      "text/plain": [
       "0    ../input/test/0eb051700fb6b1bf96188f36c8e48895...\n",
       "1    ../input/test/c99d6bc4cee9df4c93a0c3f4138664db...\n",
       "2    ../input/test/2859428095a9d1e6aba4bc135c69b596...\n",
       "3    ../input/test/13141967dff006e2e3f65282a02d3faf...\n",
       "4    ../input/test/ad15cf4e12c953fd5822eec528c55a54...\n",
       "Name: path, dtype: object"
      ]
     },
     "execution_count": 15,
     "metadata": {},
     "output_type": "execute_result"
    }
   ],
   "source": [
    "test_x=df_test['path']\n",
    "test_x.head(5)"
   ]
  },
  {
   "cell_type": "code",
   "execution_count": 16,
   "metadata": {
    "_uuid": "ea1b035f34311a6260e2e86693525cb192cca617"
   },
   "outputs": [],
   "source": [
    "training_iters = 40\n",
    "learning_rate = 0.001 \n",
    "batch_size = 256\n",
    "#data input (img shape: 96*96)\n",
    "n_input = 96\n",
    "#total classes\n",
    "n_classes = 2"
   ]
  },
  {
   "cell_type": "code",
   "execution_count": 17,
   "metadata": {
    "_uuid": "fd1c73be14e377a2b8fe2a71a133ca9afdf513a3"
   },
   "outputs": [],
   "source": [
    "#both placeholders are of type float\n",
    "x = tf.placeholder(\"float\", [None, 96,96,3])\n",
    "y = tf.placeholder(\"float\",[None,2])"
   ]
  },
  {
   "cell_type": "code",
   "execution_count": 18,
   "metadata": {
    "_uuid": "62c7b9bb2488fb160582cdd74814ddc5c9685bfc"
   },
   "outputs": [],
   "source": [
    "def conv2d(x, W, b, strides=1):\n",
    "    # Conv2D wrapper, with bias and relu activation\n",
    "    x = tf.nn.conv2d(x, W, strides=[1, strides, strides, 1], padding='SAME')\n",
    "    x = tf.layers.batch_normalization(x,training=True)\n",
    "    x = tf.nn.bias_add(x, b)\n",
    "    return tf.nn.relu(x) \n",
    "\n",
    "def maxpool2d(x, k=2):\n",
    "    return tf.nn.max_pool(x, ksize=[1, k, k, 1], strides=[1, k, k, 1],padding='SAME')"
   ]
  },
  {
   "cell_type": "code",
   "execution_count": 19,
   "metadata": {
    "_uuid": "4c9b201d8b38ae11bcfec315af4cde51e817f19e"
   },
   "outputs": [
    {
     "name": "stdout",
     "output_type": "stream",
     "text": [
      "\n",
      "WARNING: The TensorFlow contrib module will not be included in TensorFlow 2.0.\n",
      "For more information, please see:\n",
      "  * https://github.com/tensorflow/community/blob/master/rfcs/20180907-contrib-sunset.md\n",
      "  * https://github.com/tensorflow/addons\n",
      "If you depend on functionality not listed there, please file an issue.\n",
      "\n",
      "WARNING:tensorflow:From /opt/conda/lib/python3.6/site-packages/tensorflow/python/framework/op_def_library.py:263: colocate_with (from tensorflow.python.framework.ops) is deprecated and will be removed in a future version.\n",
      "Instructions for updating:\n",
      "Colocations handled automatically by placer.\n"
     ]
    }
   ],
   "source": [
    "weights = {\n",
    "    'wc1': tf.get_variable('W0', shape=(3,3,3,16), initializer=tf.contrib.layers.xavier_initializer()), \n",
    "    'wc2': tf.get_variable('W1', shape=(3,3,16,32), initializer=tf.contrib.layers.xavier_initializer()), \n",
    "    'wc3': tf.get_variable('W2', shape=(3,3,32,64), initializer=tf.contrib.layers.xavier_initializer()), \n",
    "    'wc4': tf.get_variable('W3', shape=(3,3,64,128), initializer=tf.contrib.layers.xavier_initializer()),\n",
    "    'wc5': tf.get_variable('W4', shape=(3,3,128,256), initializer=tf.contrib.layers.xavier_initializer()),\n",
    "    'wc6': tf.get_variable('W5', shape=(3,3,256,512), initializer=tf.contrib.layers.xavier_initializer()), \n",
    "    'wd1': tf.get_variable('W6', shape=(12*12*512,512), initializer=tf.contrib.layers.xavier_initializer()), \n",
    "    'out': tf.get_variable('W7', shape=(512,n_classes), initializer=tf.contrib.layers.xavier_initializer()), \n",
    "}\n",
    "biases = {\n",
    "    'bc1': tf.get_variable('B0', shape=(16), initializer=tf.contrib.layers.xavier_initializer()),\n",
    "    'bc2': tf.get_variable('B1', shape=(32), initializer=tf.contrib.layers.xavier_initializer()),\n",
    "    'bc3': tf.get_variable('B2', shape=(64), initializer=tf.contrib.layers.xavier_initializer()),\n",
    "    'bc4': tf.get_variable('B3', shape=(128), initializer=tf.contrib.layers.xavier_initializer()),\n",
    "    'bc5': tf.get_variable('B4', shape=(256), initializer=tf.contrib.layers.xavier_initializer()),\n",
    "    'bc6': tf.get_variable('B5', shape=(512), initializer=tf.contrib.layers.xavier_initializer()),\n",
    "    'bd1': tf.get_variable('B6', shape=(512), initializer=tf.contrib.layers.xavier_initializer()),\n",
    "    'out': tf.get_variable('B7', shape=(n_classes), initializer=tf.contrib.layers.xavier_initializer()),\n",
    "}"
   ]
  },
  {
   "cell_type": "code",
   "execution_count": 20,
   "metadata": {
    "_uuid": "5b5d73846bca8452abe502067f805284cf605ff4"
   },
   "outputs": [],
   "source": [
    "def conv_net(x, weights, biases):  \n",
    "\n",
    "    # here we call the conv2d function we had defined above and pass the input image x, weights wc1 and bias bc1.\n",
    "    conv1 = conv2d(x, weights['wc1'], biases['bc1'])\n",
    "    conv2 = conv2d(conv1, weights['wc2'], biases['bc2'])\n",
    "    # Max Pooling (down-sampling), this chooses the max value from a 2*2 matrix window and outputs a 48*48 matrix.\n",
    "    conv2 = maxpool2d(conv2, k=2)\n",
    "\n",
    "    conv3 = conv2d(conv2, weights['wc3'], biases['bc3'])\n",
    "    conv4 = conv2d(conv3, weights['wc4'], biases['bc4'])\n",
    "    # Max Pooling (down-sampling), this chooses the max value from a 2*2 matrix window and outputs a 24*24.\n",
    "    conv4 = maxpool2d(conv4, k=2)\n",
    "    \n",
    "    conv5 = conv2d(conv4, weights['wc5'], biases['bc5'])\n",
    "    conv6 = conv2d(conv5, weights['wc6'], biases['bc6'])\n",
    "    # Max Pooling (down-sampling), this chooses the max value from a 2*2 matrix window and outputs a 12*12.\n",
    "    conv6 = maxpool2d(conv6, k=2)\n",
    "\n",
    "    # Fully connected layer\n",
    "    # Reshape conv6 output to fit fully connected layer input\n",
    "    fc1 = tf.reshape(conv6, [-1, weights['wd1'].get_shape().as_list()[0]])\n",
    "    fc1 = tf.add(tf.matmul(fc1, weights['wd1']), biases['bd1'])\n",
    "    fc1 = tf.nn.relu(fc1)\n",
    "    fc1 = tf.nn.dropout(fc1, keep_prob=0.25)  # DROP-OUT here\n",
    "    # Output, class prediction\n",
    "    # finally we multiply the fully connected layer with the weights and add a bias term. \n",
    "    out = tf.add(tf.matmul(fc1, weights['out']), biases['out'])\n",
    "    return out"
   ]
  },
  {
   "cell_type": "code",
   "execution_count": 21,
   "metadata": {
    "_uuid": "a619da0f53bb963e45705e682aa37adb7d0f0f62"
   },
   "outputs": [
    {
     "name": "stdout",
     "output_type": "stream",
     "text": [
      "WARNING:tensorflow:From <ipython-input-18-8669cebe2afb>:4: batch_normalization (from tensorflow.python.layers.normalization) is deprecated and will be removed in a future version.\n",
      "Instructions for updating:\n",
      "Use keras.layers.batch_normalization instead.\n",
      "WARNING:tensorflow:From <ipython-input-20-464e79535c54>:24: calling dropout (from tensorflow.python.ops.nn_ops) with keep_prob is deprecated and will be removed in a future version.\n",
      "Instructions for updating:\n",
      "Please use `rate` instead of `keep_prob`. Rate should be set to `rate = 1 - keep_prob`.\n",
      "WARNING:tensorflow:From <ipython-input-21-989f812044df>:3: softmax_cross_entropy_with_logits (from tensorflow.python.ops.nn_ops) is deprecated and will be removed in a future version.\n",
      "Instructions for updating:\n",
      "\n",
      "Future major versions of TensorFlow will allow gradients to flow\n",
      "into the labels input on backprop by default.\n",
      "\n",
      "See `tf.nn.softmax_cross_entropy_with_logits_v2`.\n",
      "\n"
     ]
    }
   ],
   "source": [
    "pred = conv_net(x, weights, biases)\n",
    "\n",
    "cost = tf.reduce_mean(tf.nn.softmax_cross_entropy_with_logits(logits=pred, labels=y))\n",
    "\n",
    "optimizer = tf.train.AdamOptimizer(learning_rate=learning_rate).minimize(cost)"
   ]
  },
  {
   "cell_type": "code",
   "execution_count": 22,
   "metadata": {
    "_uuid": "4545c8adb746a3eac30ca1e1631bcac89b4cfba5"
   },
   "outputs": [],
   "source": [
    "#Here you check whether the index of the maximum value of the predicted image is equal to the actual labelled image. and both will be a column vector.\n",
    "correct_prediction = tf.equal(tf.argmax(pred, 1), tf.argmax(y, 1))\n",
    "prediction = tf.argmax(pred, 1)\n",
    "\n",
    "#calculate accuracy across all the given images and average them out. \n",
    "accuracy = tf.reduce_mean(tf.cast(correct_prediction, tf.float32))"
   ]
  },
  {
   "cell_type": "code",
   "execution_count": 23,
   "metadata": {
    "_uuid": "69708ea8101f769b26af45e1b4474cec7d3e03a4"
   },
   "outputs": [],
   "source": [
    "# Initializing the variables\n",
    "init = tf.global_variables_initializer()"
   ]
  },
  {
   "cell_type": "code",
   "execution_count": 24,
   "metadata": {
    "_uuid": "f3f142548280f42717959425eda9b3e9e19a772a"
   },
   "outputs": [
    {
     "name": "stdout",
     "output_type": "stream",
     "text": [
      "Iter 0, Loss= 0.496065, Training Accuracy= 0.78906\n",
      "Optimization Finished!\n",
      "Iter 1, Loss= 0.358788, Training Accuracy= 0.84766\n",
      "Optimization Finished!\n",
      "Iter 2, Loss= 0.308640, Training Accuracy= 0.85938\n",
      "Optimization Finished!\n",
      "Iter 3, Loss= 0.314527, Training Accuracy= 0.91406\n",
      "Optimization Finished!\n",
      "Iter 4, Loss= 0.363124, Training Accuracy= 0.87109\n",
      "Optimization Finished!\n",
      "Iter 5, Loss= 0.288836, Training Accuracy= 0.89062\n",
      "Optimization Finished!\n",
      "Iter 6, Loss= 0.282054, Training Accuracy= 0.91797\n",
      "Optimization Finished!\n",
      "Iter 7, Loss= 0.280789, Training Accuracy= 0.90625\n",
      "Optimization Finished!\n",
      "Iter 8, Loss= 0.198147, Training Accuracy= 0.92969\n",
      "Optimization Finished!\n",
      "Iter 9, Loss= 0.162790, Training Accuracy= 0.93359\n",
      "Optimization Finished!\n",
      "Iter 10, Loss= 0.151426, Training Accuracy= 0.94922\n",
      "Optimization Finished!\n",
      "Iter 11, Loss= 0.109764, Training Accuracy= 0.96875\n",
      "Optimization Finished!\n",
      "Iter 12, Loss= 0.145469, Training Accuracy= 0.95312\n",
      "Optimization Finished!\n",
      "Iter 13, Loss= 0.100309, Training Accuracy= 0.96875\n",
      "Optimization Finished!\n",
      "Iter 14, Loss= 0.128777, Training Accuracy= 0.95703\n",
      "Optimization Finished!\n",
      "Iter 15, Loss= 0.093498, Training Accuracy= 0.97266\n",
      "Optimization Finished!\n",
      "Iter 16, Loss= 0.077230, Training Accuracy= 0.97266\n",
      "Optimization Finished!\n",
      "Iter 17, Loss= 0.082934, Training Accuracy= 0.97656\n",
      "Optimization Finished!\n",
      "Iter 18, Loss= 0.057874, Training Accuracy= 0.98047\n",
      "Optimization Finished!\n",
      "Iter 19, Loss= 0.051811, Training Accuracy= 0.98047\n",
      "Optimization Finished!\n",
      "Iter 20, Loss= 0.065224, Training Accuracy= 0.97656\n",
      "Optimization Finished!\n",
      "Iter 21, Loss= 0.059029, Training Accuracy= 0.98047\n",
      "Optimization Finished!\n",
      "Iter 22, Loss= 0.065858, Training Accuracy= 0.97656\n",
      "Optimization Finished!\n",
      "Iter 23, Loss= 0.040953, Training Accuracy= 0.98438\n",
      "Optimization Finished!\n",
      "Iter 24, Loss= 0.034160, Training Accuracy= 0.98438\n",
      "Optimization Finished!\n",
      "Iter 25, Loss= 0.028441, Training Accuracy= 0.99219\n",
      "Optimization Finished!\n",
      "Iter 26, Loss= 0.032257, Training Accuracy= 0.99219\n",
      "Optimization Finished!\n",
      "Iter 27, Loss= 0.013678, Training Accuracy= 1.00000\n",
      "Optimization Finished!\n",
      "Iter 28, Loss= 0.013952, Training Accuracy= 0.99609\n",
      "Optimization Finished!\n",
      "Iter 29, Loss= 0.021326, Training Accuracy= 0.99219\n",
      "Optimization Finished!\n",
      "Iter 30, Loss= 0.015711, Training Accuracy= 0.99609\n",
      "Optimization Finished!\n",
      "Iter 31, Loss= 0.037288, Training Accuracy= 0.98828\n",
      "Optimization Finished!\n",
      "Iter 32, Loss= 0.011125, Training Accuracy= 1.00000\n",
      "Optimization Finished!\n",
      "Iter 33, Loss= 0.019905, Training Accuracy= 0.99219\n",
      "Optimization Finished!\n",
      "Iter 34, Loss= 0.018862, Training Accuracy= 0.99219\n",
      "Optimization Finished!\n",
      "Iter 35, Loss= 0.017291, Training Accuracy= 0.99609\n",
      "Optimization Finished!\n",
      "Iter 36, Loss= 0.030864, Training Accuracy= 0.98828\n",
      "Optimization Finished!\n",
      "Iter 37, Loss= 0.004356, Training Accuracy= 1.00000\n",
      "Optimization Finished!\n",
      "Iter 38, Loss= 0.030038, Training Accuracy= 0.99219\n",
      "Optimization Finished!\n",
      "Iter 39, Loss= 0.005969, Training Accuracy= 1.00000\n",
      "Optimization Finished!\n"
     ]
    }
   ],
   "source": [
    "with tf.Session() as sess:\n",
    "    sess.run(init) \n",
    "    train_loss = []\n",
    "    #test_loss = []\n",
    "    train_accuracy = []\n",
    "    #test_accuracy = []\n",
    "    #test_acc = [0.0] * (len(test_x)//batch_size)\n",
    "    #valid_loss = [0.0] * (len(test_x)//batch_size)\n",
    "    test_pred= np.array([])#[0] * len(test_x)\n",
    "    summary_writer = tf.summary.FileWriter('./Output', sess.graph)\n",
    "    for i in range(training_iters):\n",
    "        for batch in range(len(train_x)//batch_size):\n",
    "            batch_x = train_x[batch*batch_size:min((batch+1)*batch_size,len(train_x))].map(imread)\n",
    "            batch_x=batch_x.values\n",
    "            batch_x=np.asarray([a.reshape(96,96,3) for a in batch_x])\n",
    "            batch_y = train_y[batch*batch_size:min((batch+1)*batch_size,len(train_y))]  \n",
    "            batch_y=batch_y.values\n",
    "            batch_y=to_categorical(batch_y, num_classes=2)\n",
    "            # Run optimization op (backprop).\n",
    "                # Calculate batch loss and accuracy\n",
    "            opt = sess.run(optimizer, feed_dict={x: batch_x,\n",
    "                                                              y: batch_y})\n",
    "            loss, acc = sess.run([cost, accuracy], feed_dict={x: batch_x,\n",
    "                                                              y: batch_y})\n",
    "        print(\"Iter \" + str(i) + \", Loss= \" + \\\n",
    "                      \"{:.6f}\".format(loss) + \", Training Accuracy= \" + \\\n",
    "                      \"{:.5f}\".format(acc))\n",
    "        print(\"Optimization Finished!\")\n",
    "        train_loss.append(loss)\n",
    "        #test_loss.append(np.average(valid_loss))\n",
    "        train_accuracy.append(acc)\n",
    "        #test_accuracy.append(np.average(test_acc))\n",
    "\n",
    "    # Calculate accuracy for all test images\n",
    "    for batch in range(len(test_x)//batch_size+1):\n",
    "        test_batch_x = test_x[batch*batch_size:min((batch+1)*batch_size,len(test_x))].map(imread)\n",
    "        test_batch_x=test_batch_x.values\n",
    "        test_batch_x=np.asarray([a.reshape(96,96,3) for a in test_batch_x])\n",
    "        #test_batch_y = test_y[batch*batch_size:min((batch+1)*batch_size,len(test_y))]\n",
    "        #test_batch_y=test_batch_y.values\n",
    "        #test_batch_y=to_categorical(test_batch_y, num_classes=2)\n",
    "        #test_acc[batch],valid_loss[batch],test_pred[batch*batch_size:min((batch+1)*batch_size,len(test_y))] = sess.run([accuracy,cost,prediction], feed_dict={x: test_batch_x,y : test_batch_y})\n",
    "        y_list=sess.run([prediction], feed_dict={x: test_batch_x})\n",
    "        y_array=y_list[0]\n",
    "        test_pred=np.concatenate((test_pred,y_array))\n",
    "    summary_writer.close()"
   ]
  },
  {
   "cell_type": "code",
   "execution_count": 25,
   "metadata": {
    "_uuid": "7173d369a91f9ce76f620d344e8f55812359af8a"
   },
   "outputs": [
    {
     "data": {
      "image/png": "[encoded data removed]",
      "text/plain": [
       "<Figure size 432x288 with 1 Axes>"
      ]
     },
     "metadata": {},
     "output_type": "display_data"
    },
    {
     "data": {
      "text/plain": [
       "<Figure size 432x288 with 0 Axes>"
      ]
     },
     "metadata": {},
     "output_type": "display_data"
    }
   ],
   "source": [
    "plt.plot(range(len(train_loss)), train_loss, 'b', label='Training loss')\n",
    "#plt.plot(range(len(train_loss)), test_loss, 'r', label='Test loss')\n",
    "#plt.title('Training and Test loss')\n",
    "plt.title('Training loss')\n",
    "plt.xlabel('Epochs ',fontsize=16)\n",
    "plt.ylabel('Loss',fontsize=16)\n",
    "plt.legend()\n",
    "plt.figure()\n",
    "plt.show()"
   ]
  },
  {
   "cell_type": "code",
   "execution_count": 26,
   "metadata": {
    "_uuid": "e5dda52aefc7e1a9ef3046b30448320d64956448"
   },
   "outputs": [
    {
     "data": {
      "image/png": "[encoded data removed]",
      "text/plain": [
       "<Figure size 432x288 with 1 Axes>"
      ]
     },
     "metadata": {},
     "output_type": "display_data"
    },
    {
     "data": {
      "text/plain": [
       "<Figure size 432x288 with 0 Axes>"
      ]
     },
     "metadata": {},
     "output_type": "display_data"
    }
   ],
   "source": [
    "plt.plot(range(len(train_loss)), train_accuracy, 'b', label='Training Accuracy')\n",
    "#plt.plot(range(len(train_loss)), test_accuracy, 'r', label='Test Accuracy')\n",
    "#plt.title('Training and Test Accuracy')\n",
    "plt.title('Training Accuracy')\n",
    "plt.xlabel('Epochs ',fontsize=16)\n",
    "plt.ylabel('Loss',fontsize=16)\n",
    "plt.legend()\n",
    "plt.figure()\n",
    "plt.show()"
   ]
  },
  {
   "cell_type": "code",
   "execution_count": 27,
   "metadata": {
    "_kg_hide-output": false,
    "_uuid": "78a6e5ca29353a88cf3ea84a2ce871987a2ba3fd"
   },
   "outputs": [],
   "source": [
    "#import sklearn.metrics as metrics\n",
    "#fpr, tpr, _ = metrics.roc_curve(test_pred, test_y.values)\n",
    "#auc = metrics.roc_auc_score(test_pred, test_y.values)\n",
    "#plt.plot(fpr,tpr,label=\"6 Layer with dropout, auc=\"+str(auc))\n",
    "#plt.legend(loc=4)\n",
    "#plt.show()\n",
    "#fpr,tpr\n",
    "subm=df_test\n",
    "subm['label']=test_pred.astype('int32')\n",
    "subm=subm.drop(columns='path')\n",
    "subm.index=subm.index+1\n",
    "subm.to_csv('sub.csv')\n",
    "#subm\n",
    "#df_test['label']=test_pred\n",
    "#df_test.head(5)"
   ]
  }
 ],
 "metadata": {
  "kernelspec": {
   "display_name": "Python 3",
   "language": "python",
   "name": "python3"
  },
  "language_info": {
   "codemirror_mode": {
    "name": "ipython",
    "version": 3
   },
   "file_extension": ".py",
   "mimetype": "text/x-python",
   "name": "python",
   "nbconvert_exporter": "python",
   "pygments_lexer": "ipython3",
   "version": "3.7.3"
  }
 },
 "nbformat": 4,
 "nbformat_minor": 1
}
